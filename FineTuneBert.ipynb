{
 "cells": [
  {
   "cell_type": "code",
   "execution_count": 3,
   "id": "b13af748",
   "metadata": {},
   "outputs": [
    {
     "name": "stdout",
     "output_type": "stream",
     "text": [
      "Number of physical CPUs: 48\n",
      "Number of logical CPUs: 96\n",
      "Number of GPUs: 0\n"
     ]
    }
   ],
   "source": [
    "############################\n",
    "# GPU and CPU Check Code\n",
    "# KEEP AT THE TOP\n",
    "############################\n",
    "\n",
    "# !pip install psutil\n",
    "# !pip install gputil\n",
    "\n",
    "import psutil\n",
    "\n",
    "# Get the number of CPUs\n",
    "num_cpus = psutil.cpu_count(logical=False)  # physical cores\n",
    "num_logical_cpus = psutil.cpu_count(logical=True)  # logical cores\n",
    "\n",
    "print(f\"Number of physical CPUs: {num_cpus}\")\n",
    "print(f\"Number of logical CPUs: {num_logical_cpus}\")\n",
    "\n",
    "try:\n",
    "    import GPUtil\n",
    "\n",
    "    # Get the number of available GPUs\n",
    "    gpus = GPUtil.getGPUs()\n",
    "    num_gpus = len(gpus)\n",
    "\n",
    "    print(f\"Number of GPUs: {num_gpus}\")\n",
    "\n",
    "    for i, gpu in enumerate(gpus):\n",
    "        print(f\"GPU {i + 1}: {gpu.name}\")\n",
    "        print(f\"\\tMemory Total: {gpu.memoryTotal} MB\")\n",
    "        print(f\"\\tMemory Used: {gpu.memoryUsed} MB\")\n",
    "        print(f\"\\tMemory Free: {gpu.memoryFree} MB\")\n",
    "        print(f\"\\tGPU Utilization: {gpu.load * 100}%\")\n",
    "        print(f\"\\tGPU Temperature: {gpu.temperature} °C\")\n",
    "except ImportError:\n",
    "    print(\"GPUtil library not found. Cannot check GPU information.\")\n"
   ]
  },
  {
   "cell_type": "code",
   "execution_count": null,
   "metadata": {},
   "outputs": [],
   "source": []
  }
 ],
 "metadata": {
  "anaconda-cloud": {},
  "kernelspec": {
   "display_name": "Python [conda env:nlp2023v2]",
   "language": "python",
   "name": "conda-env-nlp2023v2-py"
  },
  "language_info": {
   "codemirror_mode": {
    "name": "ipython",
    "version": 3
   },
   "file_extension": ".py",
   "mimetype": "text/x-python",
   "name": "python",
   "nbconvert_exporter": "python",
   "pygments_lexer": "ipython3",
   "version": "3.10.4"
  }
 },
 "nbformat": 4,
 "nbformat_minor": 5
}
