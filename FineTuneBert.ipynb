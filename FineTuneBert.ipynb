{
 "cells": [
  {
   "cell_type": "code",
   "execution_count": 3,
   "id": "b13af748",
   "metadata": {},
   "outputs": [
    {
     "name": "stdout",
     "output_type": "stream",
     "text": [
      "Number of physical CPUs: 48\n",
      "Number of logical CPUs: 96\n",
      "Number of GPUs: 0\n"
     ]
    }
   ],
   "source": [
    "############################\n",
    "# GPU and CPU Check Code\n",
    "# KEEP AT THE TOP\n",
    "############################\n",
    "\n",
    "# !pip install psutil\n",
    "# !pip install gputil\n",
    "\n",
    "import psutil\n",
    "\n",
    "# Get the number of CPUs\n",
    "num_cpus = psutil.cpu_count(logical=False)  # physical cores\n",
    "num_logical_cpus = psutil.cpu_count(logical=True)  # logical cores\n",
    "\n",
    "print(f\"Number of physical CPUs: {num_cpus}\")\n",
    "print(f\"Number of logical CPUs: {num_logical_cpus}\")\n",
    "\n",
    "try:\n",
    "    import GPUtil\n",
    "\n",
    "    # Get the number of available GPUs\n",
    "    gpus = GPUtil.getGPUs()\n",
    "    num_gpus = len(gpus)\n",
    "\n",
    "    print(f\"Number of GPUs: {num_gpus}\")\n",
    "\n",
    "    for i, gpu in enumerate(gpus):\n",
    "        print(f\"GPU {i + 1}: {gpu.name}\")\n",
    "        print(f\"\\tMemory Total: {gpu.memoryTotal} MB\")\n",
    "        print(f\"\\tMemory Used: {gpu.memoryUsed} MB\")\n",
    "        print(f\"\\tMemory Free: {gpu.memoryFree} MB\")\n",
    "        print(f\"\\tGPU Utilization: {gpu.load * 100}%\")\n",
    "        print(f\"\\tGPU Temperature: {gpu.temperature} °C\")\n",
    "except ImportError:\n",
    "    print(\"GPUtil library not found. Cannot check GPU information.\")\n"
   ]
  },
  {
   "cell_type": "code",
   "execution_count": 1,
   "metadata": {},
   "outputs": [
    {
     "name": "stdout",
     "output_type": "stream",
     "text": [
      "Requirement already satisfied: spacy in /data/user/vmenon19/Conda_Env/nlp2023v2/lib/python3.10/site-packages (3.7.2)\n",
      "Requirement already satisfied: typer<0.10.0,>=0.3.0 in /data/user/vmenon19/Conda_Env/nlp2023v2/lib/python3.10/site-packages (from spacy) (0.9.0)\n",
      "Requirement already satisfied: smart-open<7.0.0,>=5.2.1 in /data/user/vmenon19/Conda_Env/nlp2023v2/lib/python3.10/site-packages (from spacy) (6.3.0)\n",
      "Requirement already satisfied: spacy-loggers<2.0.0,>=1.0.0 in /data/user/vmenon19/Conda_Env/nlp2023v2/lib/python3.10/site-packages (from spacy) (1.0.5)\n",
      "Requirement already satisfied: setuptools in /data/user/vmenon19/Conda_Env/nlp2023v2/lib/python3.10/site-packages (from spacy) (65.6.3)\n",
      "Requirement already satisfied: tqdm<5.0.0,>=4.38.0 in /data/user/vmenon19/Conda_Env/nlp2023v2/lib/python3.10/site-packages (from spacy) (4.65.0)\n",
      "Requirement already satisfied: requests<3.0.0,>=2.13.0 in /data/user/vmenon19/Conda_Env/nlp2023v2/lib/python3.10/site-packages (from spacy) (2.28.1)\n",
      "Requirement already satisfied: pydantic!=1.8,!=1.8.1,<3.0.0,>=1.7.4 in /data/user/vmenon19/Conda_Env/nlp2023v2/lib/python3.10/site-packages (from spacy) (1.10.7)\n",
      "Requirement already satisfied: spacy-legacy<3.1.0,>=3.0.11 in /data/user/vmenon19/Conda_Env/nlp2023v2/lib/python3.10/site-packages (from spacy) (3.0.12)\n",
      "Requirement already satisfied: srsly<3.0.0,>=2.4.3 in /data/user/vmenon19/Conda_Env/nlp2023v2/lib/python3.10/site-packages (from spacy) (2.4.8)\n",
      "Requirement already satisfied: preshed<3.1.0,>=3.0.2 in /data/user/vmenon19/Conda_Env/nlp2023v2/lib/python3.10/site-packages (from spacy) (3.0.9)\n",
      "Requirement already satisfied: thinc<8.3.0,>=8.1.8 in /data/user/vmenon19/Conda_Env/nlp2023v2/lib/python3.10/site-packages (from spacy) (8.2.1)\n",
      "Requirement already satisfied: packaging>=20.0 in /data/user/vmenon19/Conda_Env/nlp2023v2/lib/python3.10/site-packages (from spacy) (23.1)\n",
      "Requirement already satisfied: cymem<2.1.0,>=2.0.2 in /data/user/vmenon19/Conda_Env/nlp2023v2/lib/python3.10/site-packages (from spacy) (2.0.8)\n",
      "Requirement already satisfied: weasel<0.4.0,>=0.1.0 in /data/user/vmenon19/Conda_Env/nlp2023v2/lib/python3.10/site-packages (from spacy) (0.3.3)\n",
      "Requirement already satisfied: jinja2 in /data/user/vmenon19/Conda_Env/nlp2023v2/lib/python3.10/site-packages (from spacy) (3.1.2)\n",
      "Requirement already satisfied: catalogue<2.1.0,>=2.0.6 in /data/user/vmenon19/Conda_Env/nlp2023v2/lib/python3.10/site-packages (from spacy) (2.0.10)\n",
      "Requirement already satisfied: langcodes<4.0.0,>=3.2.0 in /data/user/vmenon19/Conda_Env/nlp2023v2/lib/python3.10/site-packages (from spacy) (3.3.0)\n",
      "Requirement already satisfied: wasabi<1.2.0,>=0.9.1 in /data/user/vmenon19/Conda_Env/nlp2023v2/lib/python3.10/site-packages (from spacy) (1.1.2)\n",
      "Requirement already satisfied: numpy>=1.19.0 in /data/user/vmenon19/Conda_Env/nlp2023v2/lib/python3.10/site-packages (from spacy) (1.22.3)\n",
      "Requirement already satisfied: murmurhash<1.1.0,>=0.28.0 in /data/user/vmenon19/Conda_Env/nlp2023v2/lib/python3.10/site-packages (from spacy) (1.0.10)\n",
      "Requirement already satisfied: typing-extensions>=4.2.0 in /data/user/vmenon19/Conda_Env/nlp2023v2/lib/python3.10/site-packages (from pydantic!=1.8,!=1.8.1,<3.0.0,>=1.7.4->spacy) (4.4.0)\n",
      "Requirement already satisfied: certifi>=2017.4.17 in /data/user/vmenon19/Conda_Env/nlp2023v2/lib/python3.10/site-packages (from requests<3.0.0,>=2.13.0->spacy) (2022.12.7)\n",
      "Requirement already satisfied: charset-normalizer<3,>=2 in /data/user/vmenon19/Conda_Env/nlp2023v2/lib/python3.10/site-packages (from requests<3.0.0,>=2.13.0->spacy) (2.0.4)\n",
      "Requirement already satisfied: urllib3<1.27,>=1.21.1 in /data/user/vmenon19/Conda_Env/nlp2023v2/lib/python3.10/site-packages (from requests<3.0.0,>=2.13.0->spacy) (1.26.15)\n",
      "Requirement already satisfied: idna<4,>=2.5 in /data/user/vmenon19/Conda_Env/nlp2023v2/lib/python3.10/site-packages (from requests<3.0.0,>=2.13.0->spacy) (3.4)\n",
      "Requirement already satisfied: confection<1.0.0,>=0.0.1 in /data/user/vmenon19/Conda_Env/nlp2023v2/lib/python3.10/site-packages (from thinc<8.3.0,>=8.1.8->spacy) (0.1.3)\n",
      "Requirement already satisfied: blis<0.8.0,>=0.7.8 in /data/user/vmenon19/Conda_Env/nlp2023v2/lib/python3.10/site-packages (from thinc<8.3.0,>=8.1.8->spacy) (0.7.11)\n",
      "Requirement already satisfied: click<9.0.0,>=7.1.1 in /data/user/vmenon19/Conda_Env/nlp2023v2/lib/python3.10/site-packages (from typer<0.10.0,>=0.3.0->spacy) (8.1.7)\n",
      "Requirement already satisfied: cloudpathlib<0.17.0,>=0.7.0 in /data/user/vmenon19/Conda_Env/nlp2023v2/lib/python3.10/site-packages (from weasel<0.4.0,>=0.1.0->spacy) (0.16.0)\n",
      "Requirement already satisfied: MarkupSafe>=2.0 in /data/user/vmenon19/Conda_Env/nlp2023v2/lib/python3.10/site-packages (from jinja2->spacy) (2.1.3)\n",
      "Note: you may need to restart the kernel to use updated packages.\n",
      "Requirement already satisfied: transformers in /data/user/vmenon19/Conda_Env/nlp2023v2/lib/python3.10/site-packages (4.28.1)\n",
      "Requirement already satisfied: packaging>=20.0 in /data/user/vmenon19/Conda_Env/nlp2023v2/lib/python3.10/site-packages (from transformers) (23.1)\n",
      "Requirement already satisfied: numpy>=1.17 in /data/user/vmenon19/Conda_Env/nlp2023v2/lib/python3.10/site-packages (from transformers) (1.22.3)\n",
      "Requirement already satisfied: filelock in /data/user/vmenon19/Conda_Env/nlp2023v2/lib/python3.10/site-packages (from transformers) (3.12.0)\n",
      "Requirement already satisfied: regex!=2019.12.17 in /data/user/vmenon19/Conda_Env/nlp2023v2/lib/python3.10/site-packages (from transformers) (2023.3.23)\n",
      "Requirement already satisfied: tokenizers!=0.11.3,<0.14,>=0.11.1 in /data/user/vmenon19/Conda_Env/nlp2023v2/lib/python3.10/site-packages (from transformers) (0.13.3)\n",
      "Requirement already satisfied: tqdm>=4.27 in /data/user/vmenon19/Conda_Env/nlp2023v2/lib/python3.10/site-packages (from transformers) (4.65.0)\n",
      "Requirement already satisfied: pyyaml>=5.1 in /data/user/vmenon19/Conda_Env/nlp2023v2/lib/python3.10/site-packages (from transformers) (6.0)\n",
      "Requirement already satisfied: requests in /data/user/vmenon19/Conda_Env/nlp2023v2/lib/python3.10/site-packages (from transformers) (2.28.1)\n",
      "Requirement already satisfied: huggingface-hub<1.0,>=0.11.0 in /data/user/vmenon19/Conda_Env/nlp2023v2/lib/python3.10/site-packages (from transformers) (0.13.4)\n",
      "Requirement already satisfied: typing-extensions>=3.7.4.3 in /data/user/vmenon19/Conda_Env/nlp2023v2/lib/python3.10/site-packages (from huggingface-hub<1.0,>=0.11.0->transformers) (4.4.0)\n",
      "Requirement already satisfied: certifi>=2017.4.17 in /data/user/vmenon19/Conda_Env/nlp2023v2/lib/python3.10/site-packages (from requests->transformers) (2022.12.7)\n",
      "Requirement already satisfied: urllib3<1.27,>=1.21.1 in /data/user/vmenon19/Conda_Env/nlp2023v2/lib/python3.10/site-packages (from requests->transformers) (1.26.15)\n",
      "Requirement already satisfied: charset-normalizer<3,>=2 in /data/user/vmenon19/Conda_Env/nlp2023v2/lib/python3.10/site-packages (from requests->transformers) (2.0.4)\n",
      "Requirement already satisfied: idna<4,>=2.5 in /data/user/vmenon19/Conda_Env/nlp2023v2/lib/python3.10/site-packages (from requests->transformers) (3.4)\n",
      "Note: you may need to restart the kernel to use updated packages.\n"
     ]
    }
   ],
   "source": [
    "# %pip install spacy\n",
    "# %pip install transformers\n",
    "\n",
    "import spacy\n",
    "import transformers\n",
    "from transformers import BertTokenizer\n",
    "\n"
   ]
  }
 ],
 "metadata": {
  "anaconda-cloud": {},
  "kernelspec": {
   "display_name": "Python [conda env:nlp2023v2]",
   "language": "python",
   "name": "conda-env-nlp2023v2-py"
  },
  "language_info": {
   "codemirror_mode": {
    "name": "ipython",
    "version": 3
   },
   "file_extension": ".py",
   "mimetype": "text/x-python",
   "name": "python",
   "nbconvert_exporter": "python",
   "pygments_lexer": "ipython3",
   "version": "3.10.4"
  }
 },
 "nbformat": 4,
 "nbformat_minor": 5
}
